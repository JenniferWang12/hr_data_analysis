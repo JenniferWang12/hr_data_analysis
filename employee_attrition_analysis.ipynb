{
 "cells": [
  {
   "cell_type": "markdown",
   "id": "416dfc88-b2d6-44c2-b064-0d3652697438",
   "metadata": {},
   "source": [
    "# Employee Attrition Analysis and Retention Strategy"
   ]
  },
  {
   "cell_type": "markdown",
   "id": "78ab5894-b4ab-4537-90c8-394fcfe64d5d",
   "metadata": {},
   "source": [
    "## 1.0 Introduction\n",
    "This analysis is based on the [HR Data for Analytics dataset on Kaggle](https://www.kaggle.com/datasets/jacksonchou/hr-data-for-analytics) on Kaggle, which contains employee profiles from a large company. Each record represents one employee and includes features such as satisfaction level, performance evaluation, workload, salary level, and promotion history. Through exploratory data analysis, hypothesis testing, and logistic regression modeling, this analysis identifies key drivers of employee attrition and offers data-driven retention strategy recommendations."
   ]
  },
  {
   "cell_type": "markdown",
   "id": "11adc265-77da-4d89-9134-a9b5c5abf86c",
   "metadata": {},
   "source": [
    "| Variable               | Description                                                        |\n",
    "|------------------------|--------------------------------------------------------------------|\n",
    "| satisfaction_level     | Employee-reported job satisfaction level [0–1]                    |\n",
    "| last_evaluation        | Score of employee's last performance review [0–1]                 |\n",
    "| number_project         | Number of projects employee contributes to                        |\n",
    "| average_monthly_hours  | Average number of hours employee worked per month                 |\n",
    "| time_spend_company     | How long the employee has been with the company (years)           |\n",
    "| Work_accident          | Whether or not the employee experienced an accident while at work |\n",
    "| left                   | Whether or not the employee left the company                      |\n",
    "| promotion_last_5years  | Whether or not the employee was promoted in the last 5 years      |\n",
    "| sales             | The employee's department                                         |\n",
    "| salary                 | The employee's salary (U.S. dollars)                              |\n"
   ]
  },
  {
   "cell_type": "code",
   "execution_count": 1,
   "id": "488abc64-3449-403c-a458-00d982476983",
   "metadata": {},
   "outputs": [],
   "source": [
    "# Import packages\n",
    "\n",
    "# For data manipulation\n",
    "import numpy as np\n",
    "import pandas as pd\n",
    "\n",
    "# For data visualization\n",
    "import matplotlib.pyplot as plt\n",
    "from matplotlib import colormaps\n",
    "import seaborn as sns\n",
    "\n",
    "# For testing\n",
    "from scipy.stats import chi2_contingency\n",
    "from scipy.stats import ttest_ind\n",
    "from statsmodels.stats.proportion import proportions_ztest\n",
    "import statsmodels.api as sm"
   ]
  },
  {
   "cell_type": "code",
   "execution_count": 2,
   "id": "ae86d9d6-990c-4c27-9081-b668c4331023",
   "metadata": {},
   "outputs": [
    {
     "data": {
      "text/html": [
       "<div>\n",
       "<style scoped>\n",
       "    .dataframe tbody tr th:only-of-type {\n",
       "        vertical-align: middle;\n",
       "    }\n",
       "\n",
       "    .dataframe tbody tr th {\n",
       "        vertical-align: top;\n",
       "    }\n",
       "\n",
       "    .dataframe thead th {\n",
       "        text-align: right;\n",
       "    }\n",
       "</style>\n",
       "<table border=\"1\" class=\"dataframe\">\n",
       "  <thead>\n",
       "    <tr style=\"text-align: right;\">\n",
       "      <th></th>\n",
       "      <th>satisfaction_level</th>\n",
       "      <th>last_evaluation</th>\n",
       "      <th>number_project</th>\n",
       "      <th>average_montly_hours</th>\n",
       "      <th>time_spend_company</th>\n",
       "      <th>Work_accident</th>\n",
       "      <th>left</th>\n",
       "      <th>promotion_last_5years</th>\n",
       "      <th>sales</th>\n",
       "      <th>salary</th>\n",
       "    </tr>\n",
       "  </thead>\n",
       "  <tbody>\n",
       "    <tr>\n",
       "      <th>0</th>\n",
       "      <td>0.38</td>\n",
       "      <td>0.53</td>\n",
       "      <td>2</td>\n",
       "      <td>157</td>\n",
       "      <td>3</td>\n",
       "      <td>0</td>\n",
       "      <td>1</td>\n",
       "      <td>0</td>\n",
       "      <td>sales</td>\n",
       "      <td>low</td>\n",
       "    </tr>\n",
       "    <tr>\n",
       "      <th>1</th>\n",
       "      <td>0.80</td>\n",
       "      <td>0.86</td>\n",
       "      <td>5</td>\n",
       "      <td>262</td>\n",
       "      <td>6</td>\n",
       "      <td>0</td>\n",
       "      <td>1</td>\n",
       "      <td>0</td>\n",
       "      <td>sales</td>\n",
       "      <td>medium</td>\n",
       "    </tr>\n",
       "    <tr>\n",
       "      <th>2</th>\n",
       "      <td>0.11</td>\n",
       "      <td>0.88</td>\n",
       "      <td>7</td>\n",
       "      <td>272</td>\n",
       "      <td>4</td>\n",
       "      <td>0</td>\n",
       "      <td>1</td>\n",
       "      <td>0</td>\n",
       "      <td>sales</td>\n",
       "      <td>medium</td>\n",
       "    </tr>\n",
       "    <tr>\n",
       "      <th>3</th>\n",
       "      <td>0.72</td>\n",
       "      <td>0.87</td>\n",
       "      <td>5</td>\n",
       "      <td>223</td>\n",
       "      <td>5</td>\n",
       "      <td>0</td>\n",
       "      <td>1</td>\n",
       "      <td>0</td>\n",
       "      <td>sales</td>\n",
       "      <td>low</td>\n",
       "    </tr>\n",
       "    <tr>\n",
       "      <th>4</th>\n",
       "      <td>0.37</td>\n",
       "      <td>0.52</td>\n",
       "      <td>2</td>\n",
       "      <td>159</td>\n",
       "      <td>3</td>\n",
       "      <td>0</td>\n",
       "      <td>1</td>\n",
       "      <td>0</td>\n",
       "      <td>sales</td>\n",
       "      <td>low</td>\n",
       "    </tr>\n",
       "  </tbody>\n",
       "</table>\n",
       "</div>"
      ],
      "text/plain": [
       "   satisfaction_level  last_evaluation  number_project  average_montly_hours  \\\n",
       "0                0.38             0.53               2                   157   \n",
       "1                0.80             0.86               5                   262   \n",
       "2                0.11             0.88               7                   272   \n",
       "3                0.72             0.87               5                   223   \n",
       "4                0.37             0.52               2                   159   \n",
       "\n",
       "   time_spend_company  Work_accident  left  promotion_last_5years  sales  \\\n",
       "0                   3              0     1                      0  sales   \n",
       "1                   6              0     1                      0  sales   \n",
       "2                   4              0     1                      0  sales   \n",
       "3                   5              0     1                      0  sales   \n",
       "4                   3              0     1                      0  sales   \n",
       "\n",
       "   salary  \n",
       "0     low  \n",
       "1  medium  \n",
       "2  medium  \n",
       "3     low  \n",
       "4     low  "
      ]
     },
     "execution_count": 2,
     "metadata": {},
     "output_type": "execute_result"
    }
   ],
   "source": [
    "df = pd.read_csv(\"data/HR_comma_sep.csv\")\n",
    "\n",
    "df.head()"
   ]
  },
  {
   "cell_type": "markdown",
   "id": "6760795f-fb8a-432a-b6e8-6fc51219d6cd",
   "metadata": {},
   "source": [
    "## 2.0 Initial Data Exploration and Data Cleaning"
   ]
  },
  {
   "cell_type": "code",
   "execution_count": 3,
   "id": "0b79bf86-a149-4305-b20a-20748abc0af8",
   "metadata": {},
   "outputs": [
    {
     "name": "stdout",
     "output_type": "stream",
     "text": [
      "<class 'pandas.core.frame.DataFrame'>\n",
      "RangeIndex: 14999 entries, 0 to 14998\n",
      "Data columns (total 10 columns):\n",
      " #   Column                 Non-Null Count  Dtype  \n",
      "---  ------                 --------------  -----  \n",
      " 0   satisfaction_level     14999 non-null  float64\n",
      " 1   last_evaluation        14999 non-null  float64\n",
      " 2   number_project         14999 non-null  int64  \n",
      " 3   average_montly_hours   14999 non-null  int64  \n",
      " 4   time_spend_company     14999 non-null  int64  \n",
      " 5   Work_accident          14999 non-null  int64  \n",
      " 6   left                   14999 non-null  int64  \n",
      " 7   promotion_last_5years  14999 non-null  int64  \n",
      " 8   sales                  14999 non-null  object \n",
      " 9   salary                 14999 non-null  object \n",
      "dtypes: float64(2), int64(6), object(2)\n",
      "memory usage: 1.1+ MB\n"
     ]
    }
   ],
   "source": [
    "# Basic information about the data\n",
    "df.info()"
   ]
  },
  {
   "cell_type": "code",
   "execution_count": 4,
   "id": "a8643498-1bc5-414d-933e-f30de2b7ff77",
   "metadata": {},
   "outputs": [
    {
     "data": {
      "text/html": [
       "<div>\n",
       "<style scoped>\n",
       "    .dataframe tbody tr th:only-of-type {\n",
       "        vertical-align: middle;\n",
       "    }\n",
       "\n",
       "    .dataframe tbody tr th {\n",
       "        vertical-align: top;\n",
       "    }\n",
       "\n",
       "    .dataframe thead th {\n",
       "        text-align: right;\n",
       "    }\n",
       "</style>\n",
       "<table border=\"1\" class=\"dataframe\">\n",
       "  <thead>\n",
       "    <tr style=\"text-align: right;\">\n",
       "      <th></th>\n",
       "      <th>satisfaction_level</th>\n",
       "      <th>last_evaluation</th>\n",
       "      <th>number_project</th>\n",
       "      <th>average_montly_hours</th>\n",
       "      <th>time_spend_company</th>\n",
       "      <th>Work_accident</th>\n",
       "      <th>left</th>\n",
       "      <th>promotion_last_5years</th>\n",
       "    </tr>\n",
       "  </thead>\n",
       "  <tbody>\n",
       "    <tr>\n",
       "      <th>count</th>\n",
       "      <td>14999.000000</td>\n",
       "      <td>14999.000000</td>\n",
       "      <td>14999.000000</td>\n",
       "      <td>14999.000000</td>\n",
       "      <td>14999.000000</td>\n",
       "      <td>14999.000000</td>\n",
       "      <td>14999.000000</td>\n",
       "      <td>14999.000000</td>\n",
       "    </tr>\n",
       "    <tr>\n",
       "      <th>mean</th>\n",
       "      <td>0.612834</td>\n",
       "      <td>0.716102</td>\n",
       "      <td>3.803054</td>\n",
       "      <td>201.050337</td>\n",
       "      <td>3.498233</td>\n",
       "      <td>0.144610</td>\n",
       "      <td>0.238083</td>\n",
       "      <td>0.021268</td>\n",
       "    </tr>\n",
       "    <tr>\n",
       "      <th>std</th>\n",
       "      <td>0.248631</td>\n",
       "      <td>0.171169</td>\n",
       "      <td>1.232592</td>\n",
       "      <td>49.943099</td>\n",
       "      <td>1.460136</td>\n",
       "      <td>0.351719</td>\n",
       "      <td>0.425924</td>\n",
       "      <td>0.144281</td>\n",
       "    </tr>\n",
       "    <tr>\n",
       "      <th>min</th>\n",
       "      <td>0.090000</td>\n",
       "      <td>0.360000</td>\n",
       "      <td>2.000000</td>\n",
       "      <td>96.000000</td>\n",
       "      <td>2.000000</td>\n",
       "      <td>0.000000</td>\n",
       "      <td>0.000000</td>\n",
       "      <td>0.000000</td>\n",
       "    </tr>\n",
       "    <tr>\n",
       "      <th>25%</th>\n",
       "      <td>0.440000</td>\n",
       "      <td>0.560000</td>\n",
       "      <td>3.000000</td>\n",
       "      <td>156.000000</td>\n",
       "      <td>3.000000</td>\n",
       "      <td>0.000000</td>\n",
       "      <td>0.000000</td>\n",
       "      <td>0.000000</td>\n",
       "    </tr>\n",
       "    <tr>\n",
       "      <th>50%</th>\n",
       "      <td>0.640000</td>\n",
       "      <td>0.720000</td>\n",
       "      <td>4.000000</td>\n",
       "      <td>200.000000</td>\n",
       "      <td>3.000000</td>\n",
       "      <td>0.000000</td>\n",
       "      <td>0.000000</td>\n",
       "      <td>0.000000</td>\n",
       "    </tr>\n",
       "    <tr>\n",
       "      <th>75%</th>\n",
       "      <td>0.820000</td>\n",
       "      <td>0.870000</td>\n",
       "      <td>5.000000</td>\n",
       "      <td>245.000000</td>\n",
       "      <td>4.000000</td>\n",
       "      <td>0.000000</td>\n",
       "      <td>0.000000</td>\n",
       "      <td>0.000000</td>\n",
       "    </tr>\n",
       "    <tr>\n",
       "      <th>max</th>\n",
       "      <td>1.000000</td>\n",
       "      <td>1.000000</td>\n",
       "      <td>7.000000</td>\n",
       "      <td>310.000000</td>\n",
       "      <td>10.000000</td>\n",
       "      <td>1.000000</td>\n",
       "      <td>1.000000</td>\n",
       "      <td>1.000000</td>\n",
       "    </tr>\n",
       "  </tbody>\n",
       "</table>\n",
       "</div>"
      ],
      "text/plain": [
       "       satisfaction_level  last_evaluation  number_project  \\\n",
       "count        14999.000000     14999.000000    14999.000000   \n",
       "mean             0.612834         0.716102        3.803054   \n",
       "std              0.248631         0.171169        1.232592   \n",
       "min              0.090000         0.360000        2.000000   \n",
       "25%              0.440000         0.560000        3.000000   \n",
       "50%              0.640000         0.720000        4.000000   \n",
       "75%              0.820000         0.870000        5.000000   \n",
       "max              1.000000         1.000000        7.000000   \n",
       "\n",
       "       average_montly_hours  time_spend_company  Work_accident          left  \\\n",
       "count          14999.000000        14999.000000   14999.000000  14999.000000   \n",
       "mean             201.050337            3.498233       0.144610      0.238083   \n",
       "std               49.943099            1.460136       0.351719      0.425924   \n",
       "min               96.000000            2.000000       0.000000      0.000000   \n",
       "25%              156.000000            3.000000       0.000000      0.000000   \n",
       "50%              200.000000            3.000000       0.000000      0.000000   \n",
       "75%              245.000000            4.000000       0.000000      0.000000   \n",
       "max              310.000000           10.000000       1.000000      1.000000   \n",
       "\n",
       "       promotion_last_5years  \n",
       "count           14999.000000  \n",
       "mean                0.021268  \n",
       "std                 0.144281  \n",
       "min                 0.000000  \n",
       "25%                 0.000000  \n",
       "50%                 0.000000  \n",
       "75%                 0.000000  \n",
       "max                 1.000000  "
      ]
     },
     "execution_count": 4,
     "metadata": {},
     "output_type": "execute_result"
    }
   ],
   "source": [
    "# Descriptive statistics of numerical data\n",
    "df.describe()"
   ]
  },
  {
   "cell_type": "code",
   "execution_count": 5,
   "id": "2cabc8de-784b-4267-9791-16e3f2ca7dc0",
   "metadata": {},
   "outputs": [
    {
     "data": {
      "text/html": [
       "<div>\n",
       "<style scoped>\n",
       "    .dataframe tbody tr th:only-of-type {\n",
       "        vertical-align: middle;\n",
       "    }\n",
       "\n",
       "    .dataframe tbody tr th {\n",
       "        vertical-align: top;\n",
       "    }\n",
       "\n",
       "    .dataframe thead th {\n",
       "        text-align: right;\n",
       "    }\n",
       "</style>\n",
       "<table border=\"1\" class=\"dataframe\">\n",
       "  <thead>\n",
       "    <tr style=\"text-align: right;\">\n",
       "      <th></th>\n",
       "      <th>sales</th>\n",
       "      <th>salary</th>\n",
       "    </tr>\n",
       "  </thead>\n",
       "  <tbody>\n",
       "    <tr>\n",
       "      <th>count</th>\n",
       "      <td>14999</td>\n",
       "      <td>14999</td>\n",
       "    </tr>\n",
       "    <tr>\n",
       "      <th>unique</th>\n",
       "      <td>10</td>\n",
       "      <td>3</td>\n",
       "    </tr>\n",
       "    <tr>\n",
       "      <th>top</th>\n",
       "      <td>sales</td>\n",
       "      <td>low</td>\n",
       "    </tr>\n",
       "    <tr>\n",
       "      <th>freq</th>\n",
       "      <td>4140</td>\n",
       "      <td>7316</td>\n",
       "    </tr>\n",
       "  </tbody>\n",
       "</table>\n",
       "</div>"
      ],
      "text/plain": [
       "        sales salary\n",
       "count   14999  14999\n",
       "unique     10      3\n",
       "top     sales    low\n",
       "freq     4140   7316"
      ]
     },
     "execution_count": 5,
     "metadata": {},
     "output_type": "execute_result"
    }
   ],
   "source": [
    "# Basic statistics of categorical data\n",
    "df.describe(include='object')"
   ]
  },
  {
   "cell_type": "code",
   "execution_count": 6,
   "id": "23177020-c535-4d27-8d33-846e68f0f9f4",
   "metadata": {},
   "outputs": [
    {
     "data": {
      "text/plain": [
       "sales\n",
       "sales          4140\n",
       "technical      2720\n",
       "support        2229\n",
       "IT             1227\n",
       "product_mng     902\n",
       "marketing       858\n",
       "RandD           787\n",
       "accounting      767\n",
       "hr              739\n",
       "management      630\n",
       "Name: count, dtype: int64"
      ]
     },
     "execution_count": 6,
     "metadata": {},
     "output_type": "execute_result"
    }
   ],
   "source": [
    "df['sales'].value_counts()"
   ]
  },
  {
   "cell_type": "code",
   "execution_count": 7,
   "id": "45420e3e-534f-4c1d-99ee-8c3d47cb0a70",
   "metadata": {},
   "outputs": [
    {
     "data": {
      "text/plain": [
       "salary\n",
       "low       7316\n",
       "medium    6446\n",
       "high      1237\n",
       "Name: count, dtype: int64"
      ]
     },
     "execution_count": 7,
     "metadata": {},
     "output_type": "execute_result"
    }
   ],
   "source": [
    "df['salary'].value_counts()"
   ]
  },
  {
   "cell_type": "code",
   "execution_count": 8,
   "id": "7a1d4fa3-fd9a-419f-912f-0d54b06ef1df",
   "metadata": {},
   "outputs": [
    {
     "data": {
      "text/plain": [
       "Index(['satisfaction_level', 'last_evaluation', 'number_project',\n",
       "       'average_montly_hours', 'time_spend_company', 'Work_accident', 'left',\n",
       "       'promotion_last_5years', 'sales', 'salary'],\n",
       "      dtype='object')"
      ]
     },
     "execution_count": 8,
     "metadata": {},
     "output_type": "execute_result"
    }
   ],
   "source": [
    "# Display all column names\n",
    "df.columns"
   ]
  },
  {
   "cell_type": "code",
   "execution_count": 9,
   "id": "7fd8a92e-c2d3-46f7-b39c-10cb2586c2d9",
   "metadata": {},
   "outputs": [
    {
     "data": {
      "text/plain": [
       "Index(['satisfaction_level', 'last_evaluation', 'number_project',\n",
       "       'average_monthly_hours', 'tenure', 'work_accident', 'left',\n",
       "       'promotion_last_5years', 'department', 'salary'],\n",
       "      dtype='object')"
      ]
     },
     "execution_count": 9,
     "metadata": {},
     "output_type": "execute_result"
    }
   ],
   "source": [
    "# Rename columns as needed\n",
    "df = df.rename(columns={'Work_accident': 'work_accident',\n",
    "                          'average_montly_hours': 'average_monthly_hours',\n",
    "                          'time_spend_company': 'tenure',\n",
    "                          'sales': 'department'})\n",
    "\n",
    "# Display all column names after the update\n",
    "df.columns"
   ]
  },
  {
   "cell_type": "code",
   "execution_count": 10,
   "id": "21a84cbf-455d-4653-8597-fc3459b58d0c",
   "metadata": {},
   "outputs": [
    {
     "data": {
      "text/plain": [
       "satisfaction_level       0\n",
       "last_evaluation          0\n",
       "number_project           0\n",
       "average_monthly_hours    0\n",
       "tenure                   0\n",
       "work_accident            0\n",
       "left                     0\n",
       "promotion_last_5years    0\n",
       "department               0\n",
       "salary                   0\n",
       "dtype: int64"
      ]
     },
     "execution_count": 10,
     "metadata": {},
     "output_type": "execute_result"
    }
   ],
   "source": [
    "# Check for missing values\n",
    "df.isna().sum()"
   ]
  },
  {
   "cell_type": "code",
   "execution_count": 11,
   "id": "be6a6d76-e202-40e4-93af-209ef6a431a6",
   "metadata": {},
   "outputs": [
    {
     "data": {
      "text/plain": [
       "3008"
      ]
     },
     "execution_count": 11,
     "metadata": {},
     "output_type": "execute_result"
    }
   ],
   "source": [
    "# Check for duplicates\n",
    "df.duplicated().sum()"
   ]
  },
  {
   "cell_type": "code",
   "execution_count": 12,
   "id": "924afb7d-f2fa-4270-bd31-6900882481d6",
   "metadata": {},
   "outputs": [
    {
     "data": {
      "text/html": [
       "<div>\n",
       "<style scoped>\n",
       "    .dataframe tbody tr th:only-of-type {\n",
       "        vertical-align: middle;\n",
       "    }\n",
       "\n",
       "    .dataframe tbody tr th {\n",
       "        vertical-align: top;\n",
       "    }\n",
       "\n",
       "    .dataframe thead th {\n",
       "        text-align: right;\n",
       "    }\n",
       "</style>\n",
       "<table border=\"1\" class=\"dataframe\">\n",
       "  <thead>\n",
       "    <tr style=\"text-align: right;\">\n",
       "      <th></th>\n",
       "      <th>satisfaction_level</th>\n",
       "      <th>last_evaluation</th>\n",
       "      <th>number_project</th>\n",
       "      <th>average_monthly_hours</th>\n",
       "      <th>tenure</th>\n",
       "      <th>work_accident</th>\n",
       "      <th>left</th>\n",
       "      <th>promotion_last_5years</th>\n",
       "      <th>department</th>\n",
       "      <th>salary</th>\n",
       "    </tr>\n",
       "  </thead>\n",
       "  <tbody>\n",
       "    <tr>\n",
       "      <th>0</th>\n",
       "      <td>0.38</td>\n",
       "      <td>0.53</td>\n",
       "      <td>2</td>\n",
       "      <td>157</td>\n",
       "      <td>3</td>\n",
       "      <td>0</td>\n",
       "      <td>1</td>\n",
       "      <td>0</td>\n",
       "      <td>sales</td>\n",
       "      <td>low</td>\n",
       "    </tr>\n",
       "    <tr>\n",
       "      <th>1</th>\n",
       "      <td>0.80</td>\n",
       "      <td>0.86</td>\n",
       "      <td>5</td>\n",
       "      <td>262</td>\n",
       "      <td>6</td>\n",
       "      <td>0</td>\n",
       "      <td>1</td>\n",
       "      <td>0</td>\n",
       "      <td>sales</td>\n",
       "      <td>medium</td>\n",
       "    </tr>\n",
       "    <tr>\n",
       "      <th>2</th>\n",
       "      <td>0.11</td>\n",
       "      <td>0.88</td>\n",
       "      <td>7</td>\n",
       "      <td>272</td>\n",
       "      <td>4</td>\n",
       "      <td>0</td>\n",
       "      <td>1</td>\n",
       "      <td>0</td>\n",
       "      <td>sales</td>\n",
       "      <td>medium</td>\n",
       "    </tr>\n",
       "    <tr>\n",
       "      <th>3</th>\n",
       "      <td>0.72</td>\n",
       "      <td>0.87</td>\n",
       "      <td>5</td>\n",
       "      <td>223</td>\n",
       "      <td>5</td>\n",
       "      <td>0</td>\n",
       "      <td>1</td>\n",
       "      <td>0</td>\n",
       "      <td>sales</td>\n",
       "      <td>low</td>\n",
       "    </tr>\n",
       "    <tr>\n",
       "      <th>4</th>\n",
       "      <td>0.37</td>\n",
       "      <td>0.52</td>\n",
       "      <td>2</td>\n",
       "      <td>159</td>\n",
       "      <td>3</td>\n",
       "      <td>0</td>\n",
       "      <td>1</td>\n",
       "      <td>0</td>\n",
       "      <td>sales</td>\n",
       "      <td>low</td>\n",
       "    </tr>\n",
       "  </tbody>\n",
       "</table>\n",
       "</div>"
      ],
      "text/plain": [
       "   satisfaction_level  last_evaluation  number_project  average_monthly_hours  \\\n",
       "0                0.38             0.53               2                    157   \n",
       "1                0.80             0.86               5                    262   \n",
       "2                0.11             0.88               7                    272   \n",
       "3                0.72             0.87               5                    223   \n",
       "4                0.37             0.52               2                    159   \n",
       "\n",
       "   tenure  work_accident  left  promotion_last_5years department  salary  \n",
       "0       3              0     1                      0      sales     low  \n",
       "1       6              0     1                      0      sales  medium  \n",
       "2       4              0     1                      0      sales  medium  \n",
       "3       5              0     1                      0      sales     low  \n",
       "4       3              0     1                      0      sales     low  "
      ]
     },
     "execution_count": 12,
     "metadata": {},
     "output_type": "execute_result"
    }
   ],
   "source": [
    "# Inspect some rows containing duplicates\n",
    "df[df.duplicated(keep=False)].head()"
   ]
  },
  {
   "cell_type": "code",
   "execution_count": 13,
   "id": "f258968a-f83d-4b8f-bbd0-e6798c9e3171",
   "metadata": {},
   "outputs": [
    {
     "data": {
      "text/html": [
       "<div>\n",
       "<style scoped>\n",
       "    .dataframe tbody tr th:only-of-type {\n",
       "        vertical-align: middle;\n",
       "    }\n",
       "\n",
       "    .dataframe tbody tr th {\n",
       "        vertical-align: top;\n",
       "    }\n",
       "\n",
       "    .dataframe thead th {\n",
       "        text-align: right;\n",
       "    }\n",
       "</style>\n",
       "<table border=\"1\" class=\"dataframe\">\n",
       "  <thead>\n",
       "    <tr style=\"text-align: right;\">\n",
       "      <th></th>\n",
       "      <th>satisfaction_level</th>\n",
       "      <th>last_evaluation</th>\n",
       "      <th>number_project</th>\n",
       "      <th>average_monthly_hours</th>\n",
       "      <th>tenure</th>\n",
       "      <th>work_accident</th>\n",
       "      <th>left</th>\n",
       "      <th>promotion_last_5years</th>\n",
       "      <th>department</th>\n",
       "      <th>salary</th>\n",
       "    </tr>\n",
       "  </thead>\n",
       "  <tbody>\n",
       "    <tr>\n",
       "      <th>0</th>\n",
       "      <td>0.38</td>\n",
       "      <td>0.53</td>\n",
       "      <td>2</td>\n",
       "      <td>157</td>\n",
       "      <td>3</td>\n",
       "      <td>0</td>\n",
       "      <td>1</td>\n",
       "      <td>0</td>\n",
       "      <td>sales</td>\n",
       "      <td>low</td>\n",
       "    </tr>\n",
       "    <tr>\n",
       "      <th>12000</th>\n",
       "      <td>0.38</td>\n",
       "      <td>0.53</td>\n",
       "      <td>2</td>\n",
       "      <td>157</td>\n",
       "      <td>3</td>\n",
       "      <td>0</td>\n",
       "      <td>1</td>\n",
       "      <td>0</td>\n",
       "      <td>sales</td>\n",
       "      <td>low</td>\n",
       "    </tr>\n",
       "    <tr>\n",
       "      <th>14211</th>\n",
       "      <td>0.38</td>\n",
       "      <td>0.53</td>\n",
       "      <td>2</td>\n",
       "      <td>157</td>\n",
       "      <td>3</td>\n",
       "      <td>0</td>\n",
       "      <td>1</td>\n",
       "      <td>0</td>\n",
       "      <td>sales</td>\n",
       "      <td>low</td>\n",
       "    </tr>\n",
       "  </tbody>\n",
       "</table>\n",
       "</div>"
      ],
      "text/plain": [
       "       satisfaction_level  last_evaluation  number_project  \\\n",
       "0                    0.38             0.53               2   \n",
       "12000                0.38             0.53               2   \n",
       "14211                0.38             0.53               2   \n",
       "\n",
       "       average_monthly_hours  tenure  work_accident  left  \\\n",
       "0                        157       3              0     1   \n",
       "12000                    157       3              0     1   \n",
       "14211                    157       3              0     1   \n",
       "\n",
       "       promotion_last_5years department salary  \n",
       "0                          0      sales    low  \n",
       "12000                      0      sales    low  \n",
       "14211                      0      sales    low  "
      ]
     },
     "execution_count": 13,
     "metadata": {},
     "output_type": "execute_result"
    }
   ],
   "source": [
    "# Inspect rows that are identical to the first row\n",
    "df[df.eq(df.iloc[0]).all(axis=1)]"
   ]
  },
  {
   "cell_type": "code",
   "execution_count": 14,
   "id": "b491ff0e-2819-423c-8f67-c66bc59549e1",
   "metadata": {},
   "outputs": [
    {
     "name": "stdout",
     "output_type": "stream",
     "text": [
      "Estimated likelihood of row: 4.20e-09\n",
      "Expected number of such rows: 0.00\n"
     ]
    }
   ],
   "source": [
    "# The likelihood of getting 10 columns the same based on each column's frequency\n",
    "def row_likelihood(df, row):\n",
    "    prob = 1.0\n",
    "    for col in df.columns:\n",
    "        val = row[col]\n",
    "        freq = (df[col] == val).mean()\n",
    "        if freq == 0:\n",
    "            freq = 1e-9  # avoid zero-probability\n",
    "        prob *= freq\n",
    "    return prob\n",
    "\n",
    "row = df.iloc[0]\n",
    "likelihood = row_likelihood(df, row)\n",
    "expected_occurrences = likelihood * len(df)\n",
    "print(f\"Estimated likelihood of row: {likelihood:.2e}\")\n",
    "print(f\"Expected number of such rows: {expected_occurrences:.2f}\")"
   ]
  },
  {
   "cell_type": "code",
   "execution_count": 15,
   "id": "259031d0-3968-4145-baa0-bab5ab6decff",
   "metadata": {},
   "outputs": [
    {
     "data": {
      "text/html": [
       "<div>\n",
       "<style scoped>\n",
       "    .dataframe tbody tr th:only-of-type {\n",
       "        vertical-align: middle;\n",
       "    }\n",
       "\n",
       "    .dataframe tbody tr th {\n",
       "        vertical-align: top;\n",
       "    }\n",
       "\n",
       "    .dataframe thead th {\n",
       "        text-align: right;\n",
       "    }\n",
       "</style>\n",
       "<table border=\"1\" class=\"dataframe\">\n",
       "  <thead>\n",
       "    <tr style=\"text-align: right;\">\n",
       "      <th></th>\n",
       "      <th>satisfaction_level</th>\n",
       "      <th>last_evaluation</th>\n",
       "      <th>number_project</th>\n",
       "      <th>average_monthly_hours</th>\n",
       "      <th>tenure</th>\n",
       "      <th>work_accident</th>\n",
       "      <th>left</th>\n",
       "      <th>promotion_last_5years</th>\n",
       "      <th>department</th>\n",
       "      <th>salary</th>\n",
       "    </tr>\n",
       "  </thead>\n",
       "  <tbody>\n",
       "    <tr>\n",
       "      <th>0</th>\n",
       "      <td>0.38</td>\n",
       "      <td>0.53</td>\n",
       "      <td>2</td>\n",
       "      <td>157</td>\n",
       "      <td>3</td>\n",
       "      <td>0</td>\n",
       "      <td>1</td>\n",
       "      <td>0</td>\n",
       "      <td>sales</td>\n",
       "      <td>low</td>\n",
       "    </tr>\n",
       "    <tr>\n",
       "      <th>1</th>\n",
       "      <td>0.80</td>\n",
       "      <td>0.86</td>\n",
       "      <td>5</td>\n",
       "      <td>262</td>\n",
       "      <td>6</td>\n",
       "      <td>0</td>\n",
       "      <td>1</td>\n",
       "      <td>0</td>\n",
       "      <td>sales</td>\n",
       "      <td>medium</td>\n",
       "    </tr>\n",
       "    <tr>\n",
       "      <th>2</th>\n",
       "      <td>0.11</td>\n",
       "      <td>0.88</td>\n",
       "      <td>7</td>\n",
       "      <td>272</td>\n",
       "      <td>4</td>\n",
       "      <td>0</td>\n",
       "      <td>1</td>\n",
       "      <td>0</td>\n",
       "      <td>sales</td>\n",
       "      <td>medium</td>\n",
       "    </tr>\n",
       "    <tr>\n",
       "      <th>3</th>\n",
       "      <td>0.72</td>\n",
       "      <td>0.87</td>\n",
       "      <td>5</td>\n",
       "      <td>223</td>\n",
       "      <td>5</td>\n",
       "      <td>0</td>\n",
       "      <td>1</td>\n",
       "      <td>0</td>\n",
       "      <td>sales</td>\n",
       "      <td>low</td>\n",
       "    </tr>\n",
       "    <tr>\n",
       "      <th>4</th>\n",
       "      <td>0.37</td>\n",
       "      <td>0.52</td>\n",
       "      <td>2</td>\n",
       "      <td>159</td>\n",
       "      <td>3</td>\n",
       "      <td>0</td>\n",
       "      <td>1</td>\n",
       "      <td>0</td>\n",
       "      <td>sales</td>\n",
       "      <td>low</td>\n",
       "    </tr>\n",
       "  </tbody>\n",
       "</table>\n",
       "</div>"
      ],
      "text/plain": [
       "   satisfaction_level  last_evaluation  number_project  average_monthly_hours  \\\n",
       "0                0.38             0.53               2                    157   \n",
       "1                0.80             0.86               5                    262   \n",
       "2                0.11             0.88               7                    272   \n",
       "3                0.72             0.87               5                    223   \n",
       "4                0.37             0.52               2                    159   \n",
       "\n",
       "   tenure  work_accident  left  promotion_last_5years department  salary  \n",
       "0       3              0     1                      0      sales     low  \n",
       "1       6              0     1                      0      sales  medium  \n",
       "2       4              0     1                      0      sales  medium  \n",
       "3       5              0     1                      0      sales     low  \n",
       "4       3              0     1                      0      sales     low  "
      ]
     },
     "execution_count": 15,
     "metadata": {},
     "output_type": "execute_result"
    }
   ],
   "source": [
    "# Drop duplicates and save resulting dataframe in a new variable as needed\n",
    "df1 = df.drop_duplicates(keep='first')\n",
    "\n",
    "df1.head()"
   ]
  },
  {
   "cell_type": "code",
   "execution_count": 16,
   "id": "61bf67f3-ddac-40bb-83db-f9b90434555e",
   "metadata": {},
   "outputs": [],
   "source": [
    "df1.to_csv(\"data/clean_hr_data.csv\", index=False)"
   ]
  },
  {
   "cell_type": "markdown",
   "id": "9314717c-bd73-4036-a450-f6e677717a11",
   "metadata": {},
   "source": [
    "### 2.1 Summary of Initial Exploration and Cleaning\n",
    "\n",
    "1. Renaming columns: based on the business meanings of columns, some columns are renamed, such as \"sales\" looks like a typo and is renamed to \"department\"; some columns are renamed to match the \"snake_case\".\n",
    "2. Checking missing values: no missing values and all columns have 14,999 records.\n",
    "3. Checking abnormal values: based on the understanding of business meanings of each column check the column values, for example, `satisfaction_level` and `last_evaluation` should only contain values between 0 and 1. No abnormal values.\n",
    "4. Removing duplicates: there are 3008 duplicated rows which is 20% of the data. Based on likelihood analysis, it is very unlikely that these duplicated observations are legitimate. So, these rows are dropped."
   ]
  },
  {
   "cell_type": "markdown",
   "id": "a50e899d-ea74-4260-b195-718b694beab4",
   "metadata": {},
   "source": [
    "## 3.0 Attrition Rate Analysis"
   ]
  },
  {
   "cell_type": "code",
   "execution_count": 17,
   "id": "0ca93807-c94a-4794-b5ed-0475c82bab10",
   "metadata": {},
   "outputs": [
    {
     "name": "stdout",
     "output_type": "stream",
     "text": [
      "Employee Turnover Summary\n",
      "---------------------------\n",
      "Total number of employees: 11,991\n",
      "Stayed employees:          10,000\n",
      "Left employees:            1,991\n",
      "Turnover rate:             16.60%\n"
     ]
    }
   ],
   "source": [
    "total = len(df1)\n",
    "stayed = df1['left'].value_counts().get(0, 0)\n",
    "left = df1['left'].value_counts().get(1, 0)\n",
    "turnover_rate = left / total * 100\n",
    "\n",
    "print(f\"Employee Turnover Summary\")\n",
    "print(f\"---------------------------\")\n",
    "print(f\"Total number of employees: {total:,}\")\n",
    "print(f\"Stayed employees:          {stayed:,}\")\n",
    "print(f\"Left employees:            {left:,}\")\n",
    "print(f\"Turnover rate:             {turnover_rate:.2f}%\")"
   ]
  },
  {
   "cell_type": "markdown",
   "id": "26bc29b2-dd72-4e45-984b-6a4e768df3f1",
   "metadata": {},
   "source": [
    "Through the statistics of the data set, it is found that 1,991 employees have been lost in history, with an average turnover rate of 16.60%."
   ]
  },
  {
   "cell_type": "markdown",
   "id": "13ea78ee-69d0-460b-9a1b-8075775edafb",
   "metadata": {},
   "source": [
    "### 3.1 Employee Distribution by Tenure and Attrition Rate"
   ]
  },
  {
   "cell_type": "code",
   "execution_count": 18,
   "id": "8a7bf05a-790f-4ea5-9b15-ce47d9d940ce",
   "metadata": {},
   "outputs": [
    {
     "data": {
      "image/png": "[encoded data removed]",
      "text/plain": [
       "<Figure size 1000x600 with 1 Axes>"
      ]
     },
     "metadata": {},
     "output_type": "display_data"
    }
   ],
   "source": [
    "# Number of stayed/left employees in each tenure group\n",
    "tenure_counts = df1.groupby(['tenure', 'left']).size().unstack(fill_value=0)\n",
    "tenure_counts = tenure_counts.sort_index()\n",
    "\n",
    "# Draw stacked bar chart\n",
    "ax = tenure_counts.plot(kind='bar', stacked=True, figsize=(10, 6), color=['#66b3ff', '#ff6666'])\n",
    "plt.title('Number of Employees by Tenure', fontsize=14)\n",
    "plt.xlabel('Tenure (Years)', fontsize=12)\n",
    "plt.ylabel('Number of Employees', fontsize=12)\n",
    "plt.legend(['Stayed', 'Left'])\n",
    "plt.xticks(rotation=0)\n",
    "plt.tight_layout()\n",
    "\n",
    "# Add labels\n",
    "for i, (index, row) in enumerate(tenure_counts.iterrows()):\n",
    "    stayed = row.get(0, 0)\n",
    "    left = row.get(1, 0)\n",
    "\n",
    "    # stayed label\n",
    "    if stayed > 0:\n",
    "        ax.text(i, stayed / 2, str(stayed), ha='center', va='center', fontsize=9, color='white')\n",
    "\n",
    "    # left label\n",
    "    if left > 0:\n",
    "        ax.text(i, stayed + left / 2, str(left), ha='center', va='center', fontsize=9, color='black')\n",
    "\n",
    "plt.show()"
   ]
  },
  {
   "cell_type": "code",
   "execution_count": 19,
   "id": "05f5be33-b670-49af-b5e5-afcf432a164a",
   "metadata": {},
   "outputs": [
    {
     "data": {
      "image/png": "[encoded data removed]",
      "text/plain": [
       "<Figure size 600x600 with 1 Axes>"
      ]
     },
     "metadata": {},
     "output_type": "display_data"
    }
   ],
   "source": [
    "left_df = df1[df1['left'] == 1]\n",
    "\n",
    "# Compute left employees for each tenure\n",
    "tenure_left_counts = left_df['tenure'].value_counts().sort_index()\n",
    "tenure_labels = [f'{int(x)} years' for x in tenure_left_counts.index]\n",
    "\n",
    "cmap = colormaps['viridis']\n",
    "colors = cmap(np.linspace(0, 1, len(tenure_left_counts)))\n",
    "\n",
    "# Draw pie chart\n",
    "plt.figure(figsize=(6,6))\n",
    "plt.pie(\n",
    "    tenure_left_counts,\n",
    "    labels=tenure_labels,\n",
    "    autopct='%1.1f%%',\n",
    "    startangle=90,\n",
    "    colors=colors\n",
    ")\n",
    "plt.title('Proportion of Left Employees by Tenure', fontsize=14)\n",
    "plt.axis('equal')\n",
    "plt.tight_layout()\n",
    "plt.show()"
   ]
  },
  {
   "cell_type": "markdown",
   "id": "4eadb5fa-ced9-4854-99fc-2365236333f0",
   "metadata": {},
   "source": [
    "From the above two charts we could get the following insights:\n",
    "1. Analyzing the tenure of employees who left reveals that those with 3 to 5 years of service had the highest attrition counts, with 3-year-tenure employees being the most affected (874 individuals). Employees with more than 6 years of tenure showed minimal attrition, indicating relative stability.\n",
    "\n",
    "2. Among all employees who left the company, those with 3 years of tenure accounted for 43.9%, 4-year-tenure employees for 24.9%, 5-year-tenure employees for 24.2%, and 6-year-tenure employees for 6.5%."
   ]
  },
  {
   "cell_type": "markdown",
   "id": "5544ef75-5519-4e8a-ae93-1c108dccf926",
   "metadata": {},
   "source": [
    "#### 3.1.1 Hypothesis Testing on Tenure Groups\n",
    "To further analyze the relation between tenure and employee status, we can perform a hypothesis test.\n",
    "\n",
    "$ H_0 $: There is no significant difference in attrition rate among different tenure groups\\\n",
    "$ H_A $: There is a significant difference in attrition rate among different tenure groups"
   ]
  },
  {
   "cell_type": "code",
   "execution_count": 20,
   "id": "665ac87b-0b4f-4e5b-ae11-72442363b7b8",
   "metadata": {},
   "outputs": [
    {
     "data": {
      "text/plain": [
       "{'Chi-squared Statistic': 1298.5556,\n",
       " 'Degrees of Freedom': 7,\n",
       " 'p-value': 0.0,\n",
       " 'Conclusion': 'Reject null hypothesis (dependent)'}"
      ]
     },
     "execution_count": 20,
     "metadata": {},
     "output_type": "execute_result"
    }
   ],
   "source": [
    "# Create contingency table\n",
    "contingency_table = pd.crosstab(df1['tenure'], df1['left'])\n",
    "\n",
    "# Chi-square test\n",
    "chi2, p, dof, expected = chi2_contingency(contingency_table)\n",
    "\n",
    "result = {\n",
    "    'Chi-squared Statistic': round(chi2, 4),\n",
    "    'Degrees of Freedom': dof,\n",
    "    'p-value': round(p, 4),\n",
    "    'Conclusion': 'Reject null hypothesis (dependent)' if p < 0.05 else 'Fail to reject null (independent)'\n",
    "}\n",
    "\n",
    "result"
   ]
  },
  {
   "cell_type": "markdown",
   "id": "c2f824fc-a83d-43d0-9944-15144d734165",
   "metadata": {},
   "source": [
    "The result of this hypothesis test align with the graph insights. Under different tenure groups, the attrition rate has a significant difference, that is, the tenure of employees affects the attrition rate. And from the graph insights, most turnover happens in the 3-to-5-year tenure group. Thus, we will further analyze other attributes of the 3-to-5-year tenure group, to find what causes these employees left the company."
   ]
  },
  {
   "cell_type": "markdown",
   "id": "019e0338-1f12-47cd-859a-cf079285e63b",
   "metadata": {},
   "source": [
    "### 3.2 Further exploration on the 3-to-5-year tenure group"
   ]
  },
  {
   "cell_type": "code",
   "execution_count": 21,
   "id": "1e0d3c40-b773-43d0-a10d-d80e9ecac903",
   "metadata": {},
   "outputs": [],
   "source": [
    "# Statistics for the 3-to-5-year tenure group\n",
    "df1 = df1.copy()\n",
    "df1.loc[:, 'tenure_group'] = df1['tenure'].apply(lambda x: '3-5 years' if x in [3, 4, 5] else 'Others')"
   ]
  },
  {
   "cell_type": "code",
   "execution_count": 22,
   "id": "be31105a-9770-4932-a096-c613f6c19ade",
   "metadata": {},
   "outputs": [
    {
     "data": {
      "text/html": [
       "<div>\n",
       "<style scoped>\n",
       "    .dataframe tbody tr th:only-of-type {\n",
       "        vertical-align: middle;\n",
       "    }\n",
       "\n",
       "    .dataframe tbody tr th {\n",
       "        vertical-align: top;\n",
       "    }\n",
       "\n",
       "    .dataframe thead th {\n",
       "        text-align: right;\n",
       "    }\n",
       "</style>\n",
       "<table border=\"1\" class=\"dataframe\">\n",
       "  <thead>\n",
       "    <tr style=\"text-align: right;\">\n",
       "      <th></th>\n",
       "      <th>tenure_group</th>\n",
       "      <th>left</th>\n",
       "      <th>satisfaction_level</th>\n",
       "      <th>last_evaluation</th>\n",
       "      <th>number_project</th>\n",
       "      <th>average_monthly_hours</th>\n",
       "    </tr>\n",
       "  </thead>\n",
       "  <tbody>\n",
       "    <tr>\n",
       "      <th>0</th>\n",
       "      <td>3-5 years</td>\n",
       "      <td>stayed</td>\n",
       "      <td>0.663</td>\n",
       "      <td>0.717</td>\n",
       "      <td>3.817</td>\n",
       "      <td>198.542</td>\n",
       "    </tr>\n",
       "    <tr>\n",
       "      <th>1</th>\n",
       "      <td>3-5 years</td>\n",
       "      <td>left</td>\n",
       "      <td>0.418</td>\n",
       "      <td>0.710</td>\n",
       "      <td>3.840</td>\n",
       "      <td>206.152</td>\n",
       "    </tr>\n",
       "    <tr>\n",
       "      <th>2</th>\n",
       "      <td>Others</td>\n",
       "      <td>stayed</td>\n",
       "      <td>0.675</td>\n",
       "      <td>0.714</td>\n",
       "      <td>3.734</td>\n",
       "      <td>199.657</td>\n",
       "    </tr>\n",
       "    <tr>\n",
       "      <th>3</th>\n",
       "      <td>Others</td>\n",
       "      <td>left</td>\n",
       "      <td>0.741</td>\n",
       "      <td>0.874</td>\n",
       "      <td>4.464</td>\n",
       "      <td>234.736</td>\n",
       "    </tr>\n",
       "  </tbody>\n",
       "</table>\n",
       "</div>"
      ],
      "text/plain": [
       "  tenure_group    left  satisfaction_level  last_evaluation  number_project  \\\n",
       "0    3-5 years  stayed               0.663            0.717           3.817   \n",
       "1    3-5 years    left               0.418            0.710           3.840   \n",
       "2       Others  stayed               0.675            0.714           3.734   \n",
       "3       Others    left               0.741            0.874           4.464   \n",
       "\n",
       "   average_monthly_hours  \n",
       "0                198.542  \n",
       "1                206.152  \n",
       "2                199.657  \n",
       "3                234.736  "
      ]
     },
     "execution_count": 22,
     "metadata": {},
     "output_type": "execute_result"
    }
   ],
   "source": [
    "grouped_continuous = df1.groupby(['tenure_group', 'left'])[\n",
    "    ['satisfaction_level', 'last_evaluation', 'number_project', 'average_monthly_hours']\n",
    "].mean().round(3).reset_index()\n",
    "\n",
    "grouped_continuous['left'] = grouped_continuous['left'].map({0: 'stayed', 1: 'left'})\n",
    "grouped_continuous"
   ]
  },
  {
   "cell_type": "markdown",
   "id": "cb34231b-8c28-4c92-a519-d37a0509ee5d",
   "metadata": {},
   "source": [
    "For employees with 3–5 years of tenure:\n",
    "* The average job **satisfaction** of those who left is significantly lower than that of those who stayed.\n",
    "* Their **performance evaluations** are slightly lower than those of retained employees.\n",
    "* Employees who left completed slightly more **projects** and had slightly higher **average monthly working hours**."
   ]
  },
  {
   "cell_type": "code",
   "execution_count": 23,
   "id": "042861d8-61ae-4181-ac55-d25f50f55de9",
   "metadata": {},
   "outputs": [
    {
     "data": {
      "text/html": [
       "<div>\n",
       "<style scoped>\n",
       "    .dataframe tbody tr th:only-of-type {\n",
       "        vertical-align: middle;\n",
       "    }\n",
       "\n",
       "    .dataframe tbody tr th {\n",
       "        vertical-align: top;\n",
       "    }\n",
       "\n",
       "    .dataframe thead th {\n",
       "        text-align: right;\n",
       "    }\n",
       "</style>\n",
       "<table border=\"1\" class=\"dataframe\">\n",
       "  <thead>\n",
       "    <tr style=\"text-align: right;\">\n",
       "      <th></th>\n",
       "      <th>tenure_group</th>\n",
       "      <th>left</th>\n",
       "      <th>work_accident</th>\n",
       "      <th>promotion_last_5years</th>\n",
       "    </tr>\n",
       "  </thead>\n",
       "  <tbody>\n",
       "    <tr>\n",
       "      <th>0</th>\n",
       "      <td>3-5 years</td>\n",
       "      <td>stayed</td>\n",
       "      <td>17.2%</td>\n",
       "      <td>1.8%</td>\n",
       "    </tr>\n",
       "    <tr>\n",
       "      <th>1</th>\n",
       "      <td>3-5 years</td>\n",
       "      <td>left</td>\n",
       "      <td>5.4%</td>\n",
       "      <td>0.4%</td>\n",
       "    </tr>\n",
       "    <tr>\n",
       "      <th>2</th>\n",
       "      <td>Others</td>\n",
       "      <td>stayed</td>\n",
       "      <td>17.9%</td>\n",
       "      <td>2.2%</td>\n",
       "    </tr>\n",
       "    <tr>\n",
       "      <th>3</th>\n",
       "      <td>Others</td>\n",
       "      <td>left</td>\n",
       "      <td>3.6%</td>\n",
       "      <td>0.0%</td>\n",
       "    </tr>\n",
       "  </tbody>\n",
       "</table>\n",
       "</div>"
      ],
      "text/plain": [
       "  tenure_group    left work_accident promotion_last_5years\n",
       "0    3-5 years  stayed         17.2%                  1.8%\n",
       "1    3-5 years    left          5.4%                  0.4%\n",
       "2       Others  stayed         17.9%                  2.2%\n",
       "3       Others    left          3.6%                  0.0%"
      ]
     },
     "execution_count": 23,
     "metadata": {},
     "output_type": "execute_result"
    }
   ],
   "source": [
    "binary_vars = ['work_accident', 'promotion_last_5years']\n",
    "\n",
    "# Compute the proportion\n",
    "grouped_binary = df1.groupby(['tenure_group', 'left'])[binary_vars].mean().round(4) * 100\n",
    "grouped_binary = grouped_binary.reset_index()\n",
    "\n",
    "grouped_binary['left'] = grouped_binary['left'].map({0: 'stayed', 1: 'left'})\n",
    "\n",
    "for col in binary_vars:\n",
    "    grouped_binary[col] = grouped_binary[col].map(lambda x: f'{x:.1f}%')\n",
    "\n",
    "grouped_binary"
   ]
  },
  {
   "cell_type": "markdown",
   "id": "21654c09-6c45-4244-9018-0d877bc65954",
   "metadata": {},
   "source": [
    "* Among employees with 3–5 years of tenure who are still with the company, 17.2% have experienced a work accident, and 1.8% have been promoted in the past five years.\n",
    "* Among those with 3–5 years of tenure who have left the company, only 5.4% experienced a work accident, and just 0.4% were promoted.\n",
    "* Among employees with other tenures (not 3–5 years) who stayed, 17.9% experienced a work accident, and 2.2% had a promotion.\n",
    "* Among those with other tenures who left the company, only 3.6% experienced a work accident, and none were promoted."
   ]
  },
  {
   "cell_type": "markdown",
   "id": "01ead8c5-fe90-4809-8a84-30ef767c5e84",
   "metadata": {},
   "source": [
    "* Work accident rate: Retained employees have a higher accident rate than those who left, especially in the 3–5 year group (17.2% vs. 5.4%).\n",
    "* Promotion rate: Employees who stayed have significantly higher promotion rates, suggesting a strong association between promotion opportunities and employee retention.\n",
    "* Among all employees who left, promotion rates are extremely low—particularly in the non-3–5-year group, where the promotion rate is 0%."
   ]
  },
  {
   "cell_type": "code",
   "execution_count": 24,
   "id": "a8d6d96d-374c-40ff-9cf8-a7830a79ec30",
   "metadata": {},
   "outputs": [
    {
     "data": {
      "text/html": [
       "<div>\n",
       "<style scoped>\n",
       "    .dataframe tbody tr th:only-of-type {\n",
       "        vertical-align: middle;\n",
       "    }\n",
       "\n",
       "    .dataframe tbody tr th {\n",
       "        vertical-align: top;\n",
       "    }\n",
       "\n",
       "    .dataframe thead th {\n",
       "        text-align: right;\n",
       "    }\n",
       "</style>\n",
       "<table border=\"1\" class=\"dataframe\">\n",
       "  <thead>\n",
       "    <tr style=\"text-align: right;\">\n",
       "      <th></th>\n",
       "      <th>Salary Level</th>\n",
       "      <th>Left Count</th>\n",
       "      <th>Left %</th>\n",
       "      <th>Stayed Count</th>\n",
       "      <th>Stayed %</th>\n",
       "    </tr>\n",
       "  </thead>\n",
       "  <tbody>\n",
       "    <tr>\n",
       "      <th>0</th>\n",
       "      <td>low</td>\n",
       "      <td>1095</td>\n",
       "      <td>13.3%</td>\n",
       "      <td>2960</td>\n",
       "      <td>35.8%</td>\n",
       "    </tr>\n",
       "    <tr>\n",
       "      <th>1</th>\n",
       "      <td>medium</td>\n",
       "      <td>708</td>\n",
       "      <td>8.6%</td>\n",
       "      <td>2868</td>\n",
       "      <td>34.7%</td>\n",
       "    </tr>\n",
       "    <tr>\n",
       "      <th>2</th>\n",
       "      <td>high</td>\n",
       "      <td>48</td>\n",
       "      <td>0.6%</td>\n",
       "      <td>578</td>\n",
       "      <td>7.0%</td>\n",
       "    </tr>\n",
       "  </tbody>\n",
       "</table>\n",
       "</div>"
      ],
      "text/plain": [
       "  Salary Level  Left Count Left %  Stayed Count Stayed %\n",
       "0          low        1095  13.3%          2960    35.8%\n",
       "1       medium         708   8.6%          2868    34.7%\n",
       "2         high          48   0.6%           578     7.0%"
      ]
     },
     "execution_count": 24,
     "metadata": {},
     "output_type": "execute_result"
    }
   ],
   "source": [
    "# Salary summary for the 3-to-5-year tenure group\n",
    "salary_order = ['low', 'medium', 'high']\n",
    "\n",
    "total_35 = df1[df1['tenure_group'] == '3-5 years'].shape[0]\n",
    "left_35 = df1[(df1['tenure_group'] == '3-5 years') & (df1['left'] == 1)]\n",
    "stayed_35 = df1[(df1['tenure_group'] == '3-5 years') & (df1['left'] == 0)]\n",
    "\n",
    "left_salary_counts = left_35['salary'].value_counts().reindex(salary_order, fill_value=0)\n",
    "stayed_salary_counts = stayed_35['salary'].value_counts().reindex(salary_order, fill_value=0)\n",
    "\n",
    "left_salary_proportion = (left_salary_counts / total_35 * 100).round(1)\n",
    "stayed_salary_proportion = (stayed_salary_counts / total_35 * 100).round(1)\n",
    "\n",
    "summary_salary = pd.DataFrame({\n",
    "    'Salary Level': salary_order,\n",
    "    'Left Count': left_salary_counts.values,\n",
    "    'Left %': [f'{v:.1f}%' for v in left_salary_proportion.values],\n",
    "    'Stayed Count': stayed_salary_counts.values,\n",
    "    'Stayed %': [f'{v:.1f}%' for v in stayed_salary_proportion.values]\n",
    "})\n",
    "summary_salary"
   ]
  },
  {
   "cell_type": "markdown",
   "id": "5a362e07-eaa5-4df7-910e-d17d56fccf09",
   "metadata": {},
   "source": [
    "* Overall, Low and Medium salary employees dominate all groups and high salary employees are a small minority, possibly due to delayed promotions or pay structure.\n",
    "* Attrition is higher among lower-paid employees. Low salary employees account for over half (13.3% out of 21.9%) of all attrition in this tenure group. The lower the salary, the higher the attrition risk."
   ]
  },
  {
   "cell_type": "markdown",
   "id": "41e81317-519d-42a7-8d09-2f79269c231c",
   "metadata": {},
   "source": [
    "#### 3.2.1 Hypothesis Testing on 3-5 years Tenure Groups"
   ]
  },
  {
   "cell_type": "code",
   "execution_count": 25,
   "id": "cde4ec4e-35d8-4c42-9a5c-91dc46691df1",
   "metadata": {},
   "outputs": [],
   "source": [
    "df_35 = df1[df1['tenure_group'] == '3-5 years']\n",
    "\n",
    "left = df_35[df_35['left'] == 1]\n",
    "stayed = df_35[df_35['left'] == 0]"
   ]
  },
  {
   "cell_type": "code",
   "execution_count": 26,
   "id": "952680fa-4103-468b-b9df-fec815e38ad8",
   "metadata": {},
   "outputs": [
    {
     "name": "stdout",
     "output_type": "stream",
     "text": [
      "satisfaction_level - p-value: 0.0000 | Significant\n",
      "last_evaluation - p-value: 0.2049 | Not significant\n",
      "number_project - p-value: 0.6100 | Not significant\n",
      "average_monthly_hours - p-value: 0.0000 | Significant\n"
     ]
    }
   ],
   "source": [
    "# T test for continuous variables\n",
    "def compare_means(var):\n",
    "    t_stat, p_val = ttest_ind(left[var], stayed[var], equal_var=False)\n",
    "    print(f'{var} - p-value: {p_val:.4f} | {\"Significant\" if p_val < 0.05 else \"Not significant\"}')\n",
    "\n",
    "for col in ['satisfaction_level', 'last_evaluation', 'number_project', 'average_monthly_hours']:\n",
    "    compare_means(col)"
   ]
  },
  {
   "cell_type": "code",
   "execution_count": 27,
   "id": "d98d833f-ccd8-4b8d-a1dd-6c02a9b1376f",
   "metadata": {},
   "outputs": [
    {
     "name": "stdout",
     "output_type": "stream",
     "text": [
      "work_accident - p-value: 0.0000 | Significant\n",
      "promotion_last_5years - p-value: 0.0000 | Significant\n"
     ]
    }
   ],
   "source": [
    "# Z test for binomial variables\n",
    "def z_test_prop(var):\n",
    "    count = [left[var].sum(), stayed[var].sum()]\n",
    "    nobs = [len(left), len(stayed)]\n",
    "    stat, p_val = proportions_ztest(count, nobs)\n",
    "    print(f'{var} - p-value: {p_val:.4f} | {\"Significant\" if p_val < 0.05 else \"Not significant\"}')\n",
    "\n",
    "for col in ['work_accident', 'promotion_last_5years']:\n",
    "    z_test_prop(col)"
   ]
  },
  {
   "cell_type": "code",
   "execution_count": 28,
   "id": "e46ea458-59d2-4f27-b244-f82cd2422b41",
   "metadata": {},
   "outputs": [
    {
     "name": "stdout",
     "output_type": "stream",
     "text": [
      "Salary vs Left - p-value: 0.0000 | Significant\n"
     ]
    }
   ],
   "source": [
    "# Chi-square test for salary\n",
    "salary_table = pd.crosstab(df_35['salary'], df_35['left'])\n",
    "\n",
    "chi2, p_val, dof, expected = chi2_contingency(salary_table)\n",
    "print(f'Salary vs Left - p-value: {p_val:.4f} | {\"Significant\" if p_val < 0.05 else \"Not significant\"}')"
   ]
  },
  {
   "cell_type": "markdown",
   "id": "b11928c8-42c3-4eda-a71c-adee649b4ece",
   "metadata": {},
   "source": [
    "In the 3-5-year tenure group:\n",
    "\\\n",
    "**Significant Differences (p < 0.05):**\n",
    "* satisfaction_level: Employees who left had significantly lower satisfaction.\n",
    "* average_monthly_hours: Employees who left worked significantly more hours per month.\n",
    "* work_accident: Those who left had significantly fewer work accidents.\n",
    "* promotion_last_5years: Those who left were significantly less likely to have been promoted.\n",
    "* salary: The salary distribution differed significantly between employees who left and those who stayed.\n",
    "\n",
    "**No Significant Differences (p ≥ 0.05):**\n",
    "* last_evaluation: No significant difference in performance evaluation scores.\n",
    "* number_project: No significant difference in the number of projects completed."
   ]
  },
  {
   "cell_type": "markdown",
   "id": "db63d3db-2f3f-472d-809f-77933f7736d4",
   "metadata": {},
   "source": [
    "Overall, the hypothesis testing results align closely with our earlier observational findings. For employees with 3–5 years of tenure, satisfaction level, work accident history, promotion status, and salary level show significant associations with attrition. \n",
    "\n",
    "Among the variables that showed slight differences in our exploratory analysis—average monthly hours, last evaluation, and number of projects—only average monthly hours proved to be statistically significant. "
   ]
  },
  {
   "cell_type": "markdown",
   "id": "42db6907-2415-48a6-9cdb-ff0c6d7dceea",
   "metadata": {},
   "source": [
    "### 3.3 Departments and Attrition Rate"
   ]
  },
  {
   "cell_type": "markdown",
   "id": "5f8d411c-3647-4950-a7cd-549b0165f365",
   "metadata": {},
   "source": [
    "While tenure appeared to be the strongest factor driving attrition, we also observed visible differences in attrition across departments.\n",
    "In this section, we analyze attrition at the department level for all employees, to assess whether organizational structure plays a role in employee turnover."
   ]
  },
  {
   "cell_type": "code",
   "execution_count": 29,
   "id": "eef858a4-580b-49f8-8c25-cc5651ff4595",
   "metadata": {},
   "outputs": [
    {
     "data": {
      "image/png": "[encoded data removed]",
      "text/plain": [
       "<Figure size 640x480 with 1 Axes>"
      ]
     },
     "metadata": {},
     "output_type": "display_data"
    }
   ],
   "source": [
    "pd.crosstab(df1['department'], df1['left']).plot(kind ='bar',color='mr')\n",
    "plt.title('Counts of employees who left versus stayed across department')\n",
    "plt.ylabel('Employee count')\n",
    "plt.xlabel('Department')\n",
    "plt.show()"
   ]
  },
  {
   "cell_type": "code",
   "execution_count": 30,
   "id": "e67ccce0-9145-4457-b504-ab7716c04d2b",
   "metadata": {},
   "outputs": [
    {
     "data": {
      "text/html": [
       "<div>\n",
       "<style scoped>\n",
       "    .dataframe tbody tr th:only-of-type {\n",
       "        vertical-align: middle;\n",
       "    }\n",
       "\n",
       "    .dataframe tbody tr th {\n",
       "        vertical-align: top;\n",
       "    }\n",
       "\n",
       "    .dataframe thead th {\n",
       "        text-align: right;\n",
       "    }\n",
       "</style>\n",
       "<table border=\"1\" class=\"dataframe\">\n",
       "  <thead>\n",
       "    <tr style=\"text-align: right;\">\n",
       "      <th></th>\n",
       "      <th>department</th>\n",
       "      <th>Stayed</th>\n",
       "      <th>Left</th>\n",
       "      <th>Total</th>\n",
       "      <th>Attrition Rate (%)</th>\n",
       "    </tr>\n",
       "  </thead>\n",
       "  <tbody>\n",
       "    <tr>\n",
       "      <th>0</th>\n",
       "      <td>hr</td>\n",
       "      <td>488</td>\n",
       "      <td>113</td>\n",
       "      <td>601</td>\n",
       "      <td>18.80</td>\n",
       "    </tr>\n",
       "    <tr>\n",
       "      <th>1</th>\n",
       "      <td>accounting</td>\n",
       "      <td>512</td>\n",
       "      <td>109</td>\n",
       "      <td>621</td>\n",
       "      <td>17.55</td>\n",
       "    </tr>\n",
       "    <tr>\n",
       "      <th>2</th>\n",
       "      <td>technical</td>\n",
       "      <td>1854</td>\n",
       "      <td>390</td>\n",
       "      <td>2244</td>\n",
       "      <td>17.38</td>\n",
       "    </tr>\n",
       "    <tr>\n",
       "      <th>3</th>\n",
       "      <td>support</td>\n",
       "      <td>1509</td>\n",
       "      <td>312</td>\n",
       "      <td>1821</td>\n",
       "      <td>17.13</td>\n",
       "    </tr>\n",
       "    <tr>\n",
       "      <th>4</th>\n",
       "      <td>sales</td>\n",
       "      <td>2689</td>\n",
       "      <td>550</td>\n",
       "      <td>3239</td>\n",
       "      <td>16.98</td>\n",
       "    </tr>\n",
       "    <tr>\n",
       "      <th>5</th>\n",
       "      <td>marketing</td>\n",
       "      <td>561</td>\n",
       "      <td>112</td>\n",
       "      <td>673</td>\n",
       "      <td>16.64</td>\n",
       "    </tr>\n",
       "    <tr>\n",
       "      <th>6</th>\n",
       "      <td>IT</td>\n",
       "      <td>818</td>\n",
       "      <td>158</td>\n",
       "      <td>976</td>\n",
       "      <td>16.19</td>\n",
       "    </tr>\n",
       "    <tr>\n",
       "      <th>7</th>\n",
       "      <td>product_mng</td>\n",
       "      <td>576</td>\n",
       "      <td>110</td>\n",
       "      <td>686</td>\n",
       "      <td>16.03</td>\n",
       "    </tr>\n",
       "    <tr>\n",
       "      <th>8</th>\n",
       "      <td>RandD</td>\n",
       "      <td>609</td>\n",
       "      <td>85</td>\n",
       "      <td>694</td>\n",
       "      <td>12.25</td>\n",
       "    </tr>\n",
       "    <tr>\n",
       "      <th>9</th>\n",
       "      <td>management</td>\n",
       "      <td>384</td>\n",
       "      <td>52</td>\n",
       "      <td>436</td>\n",
       "      <td>11.93</td>\n",
       "    </tr>\n",
       "  </tbody>\n",
       "</table>\n",
       "</div>"
      ],
      "text/plain": [
       "    department  Stayed  Left  Total  Attrition Rate (%)\n",
       "0           hr     488   113    601               18.80\n",
       "1   accounting     512   109    621               17.55\n",
       "2    technical    1854   390   2244               17.38\n",
       "3      support    1509   312   1821               17.13\n",
       "4        sales    2689   550   3239               16.98\n",
       "5    marketing     561   112    673               16.64\n",
       "6           IT     818   158    976               16.19\n",
       "7  product_mng     576   110    686               16.03\n",
       "8        RandD     609    85    694               12.25\n",
       "9   management     384    52    436               11.93"
      ]
     },
     "execution_count": 30,
     "metadata": {},
     "output_type": "execute_result"
    }
   ],
   "source": [
    "dept_counts = df1.groupby(['department', 'left']).size().unstack(fill_value=0)\n",
    "dept_counts.columns = ['Stayed', 'Left']\n",
    "dept_counts['Total'] = dept_counts['Stayed'] + dept_counts['Left']\n",
    "dept_counts['Attrition Rate (%)'] = (dept_counts['Left'] / dept_counts['Total'] * 100).round(2)\n",
    "\n",
    "dept_summary = dept_counts.reset_index()\n",
    "\n",
    "dept_summary_sorted_dual = dept_summary.sort_values(\n",
    "    by=['Attrition Rate (%)', 'Total'],\n",
    "    ascending=[False, False]\n",
    ").reset_index(drop=True)\n",
    "\n",
    "dept_summary_sorted_dual"
   ]
  },
  {
   "cell_type": "code",
   "execution_count": 31,
   "id": "ff831363-f641-463e-855c-1067a009d53b",
   "metadata": {},
   "outputs": [
    {
     "data": {
      "text/plain": [
       "{'Chi-squared Statistic': 20.8575,\n",
       " 'Degrees of Freedom': 9,\n",
       " 'p-value': 0.0133,\n",
       " 'Conclusion': 'Reject null hypothesis (dependent)'}"
      ]
     },
     "execution_count": 31,
     "metadata": {},
     "output_type": "execute_result"
    }
   ],
   "source": [
    "# Chi-square test for Departments\n",
    "dept_crosstab = pd.crosstab(df1['department'], df1['left'])\n",
    "chi2, p, dof, expected = chi2_contingency(dept_crosstab)\n",
    "\n",
    "result = {\n",
    "    'Chi-squared Statistic': round(chi2, 4),\n",
    "    'Degrees of Freedom': dof,\n",
    "    'p-value': round(p, 4),\n",
    "    'Conclusion': 'Reject null hypothesis (dependent)' if p < 0.05 else 'Fail to reject null (independent)'\n",
    "}\n",
    "\n",
    "result"
   ]
  },
  {
   "cell_type": "markdown",
   "id": "6aa0ebc5-65ef-4a1a-ba9b-18c832e9588b",
   "metadata": {},
   "source": [
    "From the two charts above, we observe that the attrition rates for most departments fall between 16% and 18%, with the HR department having the highest attrition rate at 18.8%. In contrast, R&D and Management departments show significantly lower attrition rates, at 12.25% and 11.93%, respectively."
   ]
  },
  {
   "cell_type": "markdown",
   "id": "e68b8820-35ed-4747-bb25-fc577967248b",
   "metadata": {},
   "source": [
    "A chi-square test of independence confirms this observation: at the 95% confidence level, we find statistical evidence that the department an employee belongs to is significantly associated with their likelihood of attrition. In other words, attrition is not independent of department—some departments exhibit notably higher or lower turnover rates, which aligns with the trends seen in our visualizations."
   ]
  },
  {
   "cell_type": "markdown",
   "id": "d1c9e181-a3a2-47a8-bd95-f7ce88d1d06b",
   "metadata": {},
   "source": [
    "Moving forward, we will build a logistic regression model to assess the independent effect and direction of each variable while controlling for potential confounders."
   ]
  },
  {
   "cell_type": "markdown",
   "id": "f1a56fcd-0f61-4e1c-9ef5-20e5a1f8fbb1",
   "metadata": {},
   "source": [
    "## 4.0 Logistic Regression on Attrition Drivers"
   ]
  },
  {
   "cell_type": "markdown",
   "id": "1e6ebc3b-20fe-4322-b789-1b9252b3a372",
   "metadata": {},
   "source": [
    "To further assess the independent effects of each factor on attrition, we built a logistic regression model while controlling for potential confounders. This allows us to evaluate the direction and significance of each variable's contribution to attrition."
   ]
  },
  {
   "cell_type": "code",
   "execution_count": 32,
   "id": "4272d7c7-b059-410c-bb17-eb5d40a2a0f5",
   "metadata": {},
   "outputs": [
    {
     "name": "stdout",
     "output_type": "stream",
     "text": [
      "Optimization terminated successfully.\n",
      "         Current function value: 0.367209\n",
      "         Iterations 7\n",
      "                           Logit Regression Results                           \n",
      "==============================================================================\n",
      "Dep. Variable:                   left   No. Observations:                11991\n",
      "Model:                          Logit   Df Residuals:                    11973\n",
      "Method:                           MLE   Df Model:                           17\n",
      "Date:                Fri, 28 Mar 2025   Pseudo R-squ.:                  0.1832\n",
      "Time:                        12:35:44   Log-Likelihood:                -4403.2\n",
      "converged:                       True   LL-Null:                       -5390.6\n",
      "Covariance Type:            nonrobust   LLR p-value:                     0.000\n",
      "==========================================================================================\n",
      "                             coef    std err          z      P>|z|      [0.025      0.975]\n",
      "------------------------------------------------------------------------------------------\n",
      "const                     -1.4730      0.246     -5.990      0.000      -1.955      -0.991\n",
      "satisfaction_level        -4.2025      0.121    -34.664      0.000      -4.440      -3.965\n",
      "last_evaluation            0.7807      0.178      4.397      0.000       0.433       1.129\n",
      "number_project            -0.2345      0.025     -9.244      0.000      -0.284      -0.185\n",
      "average_monthly_hours      0.0044      0.001      7.139      0.000       0.003       0.006\n",
      "work_accident             -1.3617      0.109    -12.523      0.000      -1.575      -1.149\n",
      "promotion_last_5years     -1.1490      0.375     -3.064      0.002      -1.884      -0.414\n",
      "salary_low                 1.6712      0.159     10.527      0.000       1.360       1.982\n",
      "salary_medium              1.2672      0.160      7.916      0.000       0.953       1.581\n",
      "department_IT              0.3379      0.158      2.143      0.032       0.029       0.647\n",
      "department_accounting      0.3592      0.171      2.099      0.036       0.024       0.695\n",
      "department_hr              0.4678      0.170      2.749      0.006       0.134       0.801\n",
      "department_management      0.2320      0.206      1.127      0.260      -0.171       0.635\n",
      "department_marketing       0.4247      0.170      2.495      0.013       0.091       0.758\n",
      "department_product_mng     0.3149      0.169      1.860      0.063      -0.017       0.647\n",
      "department_sales           0.4116      0.136      3.035      0.002       0.146       0.677\n",
      "department_support         0.4415      0.143      3.087      0.002       0.161       0.722\n",
      "department_technical       0.4072      0.140      2.911      0.004       0.133       0.681\n",
      "==========================================================================================\n"
     ]
    }
   ],
   "source": [
    "features = ['satisfaction_level', 'last_evaluation', 'number_project',\n",
    "            'average_monthly_hours', 'work_accident', 'promotion_last_5years']\n",
    "\n",
    "df_dummies = pd.get_dummies(df1[['salary', 'department']], drop_first=False)\n",
    "df_dummies = df_dummies.drop(columns=['salary_high', 'department_RandD'])\n",
    "\n",
    "X = pd.concat([df1[features], df_dummies], axis=1)\n",
    "X = sm.add_constant(X)\n",
    "X = X.astype(float)\n",
    "y = df1['left']\n",
    "\n",
    "\n",
    "model = sm.Logit(y, X).fit()\n",
    "print(model.summary())"
   ]
  },
  {
   "cell_type": "markdown",
   "id": "296fd783-0c22-4063-bde1-e7ab350e12bd",
   "metadata": {},
   "source": [
    "**Employee Attributes**\n",
    "* `satisfaction_level`: Significant. Higher satisfaction is strongly associated with lower attrition. This aligns with both visualization and t-test results.\n",
    "\n",
    "* `average_monthly_hours`: Significant. Longer working hours are associated with higher attrition risk, supporting the \"overwork\" hypothesis. Matches both visual and univariate findings.\n",
    "\n",
    "* `work_accident`: Significant. Employees with a work accident are less likely to leave, possibly due to company protection, reassignment, or simply longer tenure leading to higher accident exposure. Consistent with observed trends.\n",
    "\n",
    "* `promotion_last_5years`: Significant. Employees who were promoted are more likely to stay, indicating promotion is a strong retention factor. Matches both visual and statistical observations.\n",
    "\n",
    "* `last_evaluation`: Significant. Higher evaluation scores are associated with slightly higher attrition risk. This variable was not significant in univariate testing, but became significant after controlling for confounders like satisfaction, project count, and working hours.\n",
    "\n",
    "* `number_project`: Significant. More project involvement is linked to lower attrition, possibly indicating stronger engagement. Not significant in univariate tests but revealed significance after controlling for other variables."
   ]
  },
  {
   "cell_type": "markdown",
   "id": "21ea09ce-ae67-4f37-a6b2-79b48862ad9e",
   "metadata": {},
   "source": [
    "**Salary Level (Reference: High)**\n",
    "* `salary_low`: Significant. Low-salary employees are much more likely to leave compared to high-salary ones. This is consistent with the salary table and hypothesis testing.\n",
    "\n",
    "* `salary_medium`: Significant. Employees with medium salaries are more likely to leave than those with high salaries, but less so than low-salary employees. Matches previous observations."
   ]
  },
  {
   "cell_type": "markdown",
   "id": "bc85b8ba-3b24-4cb6-81a0-32fe4e51fcb2",
   "metadata": {},
   "source": [
    "**Department (Reference: R&D)**\n",
    "* The following departments show significantly higher attrition compared to R&D, consistent with visual observations: `IT`, `accounting`, `hr`, `marketing`, `sales`, `support`, and `technical`.\n",
    "\n",
    "* `management`: Not significant, indicating similar attrition rate to R&D. This aligns with prior observation.\n",
    "\n",
    "* `product_mng`: Not significant, which contradicts the visual trend slightly. This may be due to a smaller sample size leading to insufficient statistical power."
   ]
  },
  {
   "cell_type": "markdown",
   "id": "c178d793-e59b-446a-b24b-261382a20baf",
   "metadata": {},
   "source": [
    "## 5.0 Data-Driven Recommendations"
   ]
  },
  {
   "cell_type": "markdown",
   "id": "fe983061-1c52-426f-afd3-3e256e828466",
   "metadata": {},
   "source": [
    "1. **Optimize Compensation Structure to Reduce Turnover Among Low-Salary Employees**\n",
    "* Analysis shows that employees with low salaries are significantly more likely to leave compared to those with medium or high salaries. Salary level is one of the key drivers of attrition.\n",
    "* Recommendation: Adjust the balance between base pay and performance bonuses. For frontline and entry-level positions, consider implementing a minimum guaranteed income policy to enhance employee retention.\n",
    "\n",
    "2. **Incorporate Employee Satisfaction into Performance and Talent Management**\n",
    "* Satisfaction level is one of the most significant predictors of attrition. It is recommended to include satisfaction as a metric in team performance evaluations.\n",
    "* Recommendation: For employees with persistently low satisfaction, provide timely interventions such as feedback, counseling, or role adjustments. For consistently satisfied employees, consider offering internal referrals or promotion opportunities.\n",
    "\n",
    "3. **Manage Turnover Risk Among “High-Performance + Long Hours” Employees**\n",
    "* Data shows that employees with high performance, heavy workloads, and long working hours are more likely to leave, possibly due to burnout or lack of recognition.\n",
    "* Recommendation: Establish clear promotion pathways, flexible working policies, or introduce “high workload bonuses” to increase perceived fairness and recognition for these employees.\n",
    "\n",
    "4. **Strengthen Promotion and Incentive Mechanisms for Employees with 3–5 Years of Tenure**\n",
    "* The highest attrition rates are concentrated among employees with 3–5 years of service, especially those with low promotion rates.\n",
    "* Recommendation: Introduce a “three-year service reward,” conduct mid-career promotion reviews, and hold regular career development conversations to boost employee loyalty and engagement.\n",
    "\n",
    "5. **Enhance Retention Strategies in High-Turnover Departments (HR, Support, Sales)**\n",
    "* These departments show significantly higher attrition rates compared to R&D, potentially due to high workload intensity or weaker feedback mechanisms.\n",
    "* Recommendation: Conduct regular satisfaction surveys within departments, implement role rotation programs, and design clear growth paths for frontline employees to improve retention and morale."
   ]
  }
 ],
 "metadata": {
  "kernelspec": {
   "display_name": "Python 3 (ipykernel)",
   "language": "python",
   "name": "python3"
  },
  "language_info": {
   "codemirror_mode": {
    "name": "ipython",
    "version": 3
   },
   "file_extension": ".py",
   "mimetype": "text/x-python",
   "name": "python",
   "nbconvert_exporter": "python",
   "pygments_lexer": "ipython3",
   "version": "3.12.5"
  }
 },
 "nbformat": 4,
 "nbformat_minor": 5
}
